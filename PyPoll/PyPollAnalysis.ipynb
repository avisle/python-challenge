{
 "cells": [
  {
   "cell_type": "code",
   "execution_count": 1,
   "id": "e772a041",
   "metadata": {},
   "outputs": [
    {
     "name": "stdout",
     "output_type": "stream",
     "text": [
      "\n",
      "Election Results\n",
      "-------------------------\n",
      "Total Votes: 369711\n",
      "-------------------------\n",
      "Charles Casper Stockham: 23.049% (85213)\n",
      "Diana DeGette: 73.812% (272892)\n",
      "Raymon Anthony Doane: 3.139% (11606)\n",
      "\n",
      "-------------------------\n",
      "Winner: Diana DeGette\n",
      "-------------------------\n",
      "\n",
      "Results saved to analysis\\election_analysis.txt\n"
     ]
    }
   ],
   "source": [
    "import csv\n",
    "import os\n",
    "\n",
    "file_to_load = os.path.join(\"Resources\", \"election_data.csv\")\n",
    "file_to_output = os.path.join(\"analysis\", \"election_analysis.txt\")\n",
    "total_votes = 0\n",
    "candidate_votes = {}\n",
    "candidate_options = []\n",
    "\n",
    "with open(file_to_load) as election_data:\n",
    "    reader = csv.reader(election_data)\n",
    "    \n",
    "    header = next(reader)\n",
    "    \n",
    "    \n",
    "    for row in reader:\n",
    "        total_votes += 1\n",
    "        candidate_name = row[2]  # Assuming candidate name is in the third column (index 2)\n",
    "        \n",
    "        if candidate_name not in candidate_votes:\n",
    "            candidate_votes[candidate_name] = 0\n",
    "        \n",
    "        candidate_votes[candidate_name] += 1\n",
    "\n",
    "# Determine the winner\n",
    "winner = max(candidate_votes, key=candidate_votes.get)\n",
    "\n",
    "# Calculate percentages\n",
    "percentage_results = {candidate: (votes / total_votes) * 100 for candidate, votes in candidate_votes.items()}\n",
    "\n",
    "# Generate output\n",
    "output = f'''\n",
    "Election Results\n",
    "-------------------------\n",
    "Total Votes: {total_votes}\n",
    "-------------------------\n",
    "'''\n",
    "\n",
    "for candidate, votes in candidate_votes.items():\n",
    "    output += f'{candidate}: {percentage_results[candidate]:.3f}% ({votes})\\n'\n",
    "\n",
    "output += f'''\n",
    "-------------------------\n",
    "Winner: {winner}\n",
    "-------------------------\n",
    "'''\n",
    "\n",
    "print(output)\n",
    "\n",
    "# Save the output to a file\n",
    "with open(file_to_output, \"w\") as output_file:\n",
    "    output_file.write(output)\n",
    "\n",
    "print(\"Results saved to\", file_to_output)\n"
   ]
  },
  {
   "cell_type": "code",
   "execution_count": null,
   "id": "cbee6185",
   "metadata": {},
   "outputs": [],
   "source": []
  }
 ],
 "metadata": {
  "kernelspec": {
   "display_name": "Python 3 (ipykernel)",
   "language": "python",
   "name": "python3"
  },
  "language_info": {
   "codemirror_mode": {
    "name": "ipython",
    "version": 3
   },
   "file_extension": ".py",
   "mimetype": "text/x-python",
   "name": "python",
   "nbconvert_exporter": "python",
   "pygments_lexer": "ipython3",
   "version": "3.11.4"
  }
 },
 "nbformat": 4,
 "nbformat_minor": 5
}
