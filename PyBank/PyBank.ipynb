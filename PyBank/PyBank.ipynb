{
 "cells": [
  {
   "cell_type": "code",
   "execution_count": 27,
   "id": "bbf5917c",
   "metadata": {},
   "outputs": [
    {
     "name": "stdout",
     "output_type": "stream",
     "text": [
      "Financial Analysis\n",
      "----------------------------\n",
      "Total Months: 85\n",
      "Total: $ 22564198\n",
      "Average Change: $ -8311.11\n",
      "Greatest Increase in Profits: Aug-16 ($ 1,862,002)\n",
      "Greatest Decrease in Profits: Feb-14 ($ -1,825,558)\n"
     ]
    }
   ],
   "source": [
    "import csv \n",
    "import os\n",
    "\n",
    "file_to_load = os.path.join(\".\", \"Resources\", \"budget_data.csv\")\n",
    "file_to_output = os.path.join(\".\", \"budget_analysis.txt\")\n",
    "\n",
    "total_months = 0\n",
    "total_net = 0\n",
    "net_list_change = []\n",
    "month_changes = []\n",
    "greatest_increase = [\"\", 0]\n",
    "greatest_decrease = [\"\", 99999999999999]\n",
    "\n",
    "with open(file_to_load) as financial_data:\n",
    "    reader = csv.reader(financial_data)\n",
    "    \n",
    "    header = next(reader)\n",
    "    \n",
    "    \n",
    "    first_row = next(reader)\n",
    "    total_net += int(first_row[1])\n",
    "    previous_net = int(first_row[1])\n",
    "    \n",
    "   \n",
    "    for row in reader:\n",
    "        total_months += 1\n",
    "        total_net += int(row[1])\n",
    "        \n",
    "        net_change = int(row[1]) - previous_net\n",
    "        previous_net = int(row[1])\n",
    "        net_list_change.append(net_change)\n",
    "        \n",
    "        if(net_change > greatest_increase[1]):\n",
    "            greatest_increase[0] = row[0]\n",
    "            greatest_increase[1] = net_change\n",
    "            \n",
    "        if(net_change < greatest_decrease[1]):\n",
    "            greatest_decrease[0] = row[0]\n",
    "            greatest_decrease[1] = net_change\n",
    "            \n",
    "monthly_average = sum(net_list_change) / len(net_list_change)\n",
    "\n",
    "with open(file_to_output, \"w\") as analysis_file:\n",
    "    analysis_file.write(\"Financial Analysis\\n\")\n",
    "    analysis_file.write(\"----------------------------\\n\")\n",
    "    analysis_file.write(f\"Total Months: {total_months}\\n\")\n",
    "    analysis_file.write(f\"Total: $ {total_net}\\n\")\n",
    "    analysis_file.write(f\"Average Change: $ {monthly_average:.2f}\\n\")\n",
    "    analysis_file.write(f\"Greatest Increase in Profits: {greatest_increase[0]} ($ {greatest_increase[1]:,})\\n\")\n",
    "    analysis_file.write(f\"Greatest Decrease in Profits: {greatest_decrease[0]} ($ {greatest_decrease[1]:,})\\n\")\n",
    "\n",
    "print(\"Financial Analysis\")\n",
    "print(\"----------------------------\")\n",
    "print(f\"Total Months: {total_months}\")\n",
    "print(f\"Total: $ {total_net}\")\n",
    "print(f\"Average Change: $ {monthly_average:.2f}\")\n",
    "print(f\"Greatest Increase in Profits: {greatest_increase[0]} ($ {greatest_increase[1]:,})\")\n",
    "print(f\"Greatest Decrease in Profits: {greatest_decrease[0]} ($ {greatest_decrease[1]:,})\")"
   ]
  },
  {
   "cell_type": "code",
   "execution_count": null,
   "id": "3fed53cd",
   "metadata": {},
   "outputs": [],
   "source": []
  }
 ],
 "metadata": {
  "kernelspec": {
   "display_name": "Python 3 (ipykernel)",
   "language": "python",
   "name": "python3"
  },
  "language_info": {
   "codemirror_mode": {
    "name": "ipython",
    "version": 3
   },
   "file_extension": ".py",
   "mimetype": "text/x-python",
   "name": "python",
   "nbconvert_exporter": "python",
   "pygments_lexer": "ipython3",
   "version": "3.11.4"
  }
 },
 "nbformat": 4,
 "nbformat_minor": 5
}
